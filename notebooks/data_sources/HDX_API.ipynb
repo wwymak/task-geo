{
 "cells": [
  {
   "cell_type": "markdown",
   "metadata": {},
   "source": [
    "## HDX Data Source\n",
    "This notebooks shows how to use retrieve data from HDX"
   ]
  },
  {
   "cell_type": "code",
   "execution_count": 1,
   "metadata": {},
   "outputs": [
    {
     "name": "stdout",
     "output_type": "stream",
     "text": [
      "No logging configuration parameter. Using default.\n",
      "Loading logging configuration from: /opt/anaconda3/lib/python3.7/site-packages/hdx/utilities/logging_configuration.yml\n",
      "INFO - 2020-04-05 00:41:53 - hdx.hdx_configuration - No HDX base configuration parameter. Using default base configuration file: /opt/anaconda3/lib/python3.7/site-packages/hdx/hdx_base_configuration.yml.\n",
      "INFO - 2020-04-05 00:41:53 - hdx.hdx_configuration - Loading HDX base configuration from: /opt/anaconda3/lib/python3.7/site-packages/hdx/hdx_base_configuration.yml\n",
      "INFO - 2020-04-05 00:41:53 - hdx.hdx_configuration - No HDX configuration parameter and no configuration file at default path: /Users/krishna.sheth@ibm.com/.hdx_configuration.yml.\n",
      "INFO - 2020-04-05 00:41:53 - hdx.hdx_configuration - Read only access to HDX: True\n"
     ]
    }
   ],
   "source": [
    "from task_geo.data_sources.hdx import hdx_api"
   ]
  },
  {
   "cell_type": "code",
   "execution_count": 2,
   "metadata": {},
   "outputs": [
    {
     "name": "stdout",
     "output_type": "stream",
     "text": [
      "INFO - 2020-04-05 00:41:53 - task_geo.data_sources.hdx.hdx_connector - Dataset Fetched from: https://data.humdata.org/dataset/acaps-covid19-government-measures-dataset\n",
      "INFO - 2020-04-05 00:41:53 - task_geo.data_sources.hdx.hdx_connector - Expected Update Frequency: As needed\n",
      "INFO - 2020-04-05 00:41:53 - task_geo.data_sources.hdx.hdx_connector - Description: ACAPS COVID-19 Government Measures Dataset\n",
      "INFO - 2020-04-05 00:41:53 - task_geo.data_sources.hdx.hdx_connector - Last Modified: 2020-04-03T08:34:37.402213, Revision Last Updated: 2020-04-03T08:34:44.192029\n",
      "INFO - 2020-04-05 00:41:53 - task_geo.data_sources.hdx.hdx_connector - Size: 0.9903230667114258Mb\n",
      "INFO - 2020-04-05 00:41:53 - task_geo.data_sources.hdx.hdx_connector - Dataset Url: http://data.humdata.org/dataset/e1a91ae0-292d-4434-bc75-bf863d4608ba/resource/ca45faef-c1c7-48bf-b89e-56444e080451/download/20200402-acaps-covid-19-goverment-measures-dataset-v4.xlsx\n",
      "INFO - 2020-04-05 00:41:53 - task_geo.data_sources.hdx.hdx_connector - Tags: ['affected schools', 'covid-19', 'economics', 'epidemics and outbreaks', 'geodata', 'government data', 'health', 'human rights', 'hxl', 'population movement', 'public services', 'transportation']\n",
      "INFO - 2020-04-05 00:41:57 - task_geo.data_sources.hdx.hdx_connector - Downloaded dataset at path: ./20200402 ACAPS - COVID-19 Goverment Measures Dataset v4.xlsx1.XLSX\n",
      "INFO - 2020-04-05 00:41:58 - task_geo.data_sources.hdx.hdx_connector - ['About', 'Lists', 'Database', 'Dictionary']\n"
     ]
    }
   ],
   "source": [
    "data = hdx_api()"
   ]
  },
  {
   "cell_type": "code",
   "execution_count": 3,
   "metadata": {},
   "outputs": [
    {
     "data": {
      "text/plain": [
       "pandas.core.frame.DataFrame"
      ]
     },
     "execution_count": 3,
     "metadata": {},
     "output_type": "execute_result"
    }
   ],
   "source": [
    "type(data)"
   ]
  },
  {
   "cell_type": "code",
   "execution_count": 4,
   "metadata": {},
   "outputs": [
    {
     "data": {
      "text/html": [
       "<div>\n",
       "<style scoped>\n",
       "    .dataframe tbody tr th:only-of-type {\n",
       "        vertical-align: middle;\n",
       "    }\n",
       "\n",
       "    .dataframe tbody tr th {\n",
       "        vertical-align: top;\n",
       "    }\n",
       "\n",
       "    .dataframe thead th {\n",
       "        text-align: right;\n",
       "    }\n",
       "</style>\n",
       "<table border=\"1\" class=\"dataframe\">\n",
       "  <thead>\n",
       "    <tr style=\"text-align: right;\">\n",
       "      <th></th>\n",
       "      <th>country</th>\n",
       "      <th>iso</th>\n",
       "      <th>region</th>\n",
       "      <th>category</th>\n",
       "      <th>measure</th>\n",
       "      <th>targeted_pop_group</th>\n",
       "      <th>comments</th>\n",
       "      <th>non_compliance</th>\n",
       "      <th>date_implemented</th>\n",
       "      <th>source</th>\n",
       "      <th>source_type</th>\n",
       "      <th>entry_date</th>\n",
       "    </tr>\n",
       "  </thead>\n",
       "  <tbody>\n",
       "    <tr>\n",
       "      <td>0</td>\n",
       "      <td>Afghanistan</td>\n",
       "      <td>AFG</td>\n",
       "      <td>Asia</td>\n",
       "      <td>Public health measures</td>\n",
       "      <td>Health screenings in airports and border cross...</td>\n",
       "      <td>No</td>\n",
       "      <td>NaN</td>\n",
       "      <td>NaN</td>\n",
       "      <td>2020-02-12</td>\n",
       "      <td>Ministry of Health</td>\n",
       "      <td>Government</td>\n",
       "      <td>2020-03-14</td>\n",
       "    </tr>\n",
       "    <tr>\n",
       "      <td>1</td>\n",
       "      <td>Afghanistan</td>\n",
       "      <td>AFG</td>\n",
       "      <td>Asia</td>\n",
       "      <td>Public health measures</td>\n",
       "      <td>Introduction of quarantine policies</td>\n",
       "      <td>No</td>\n",
       "      <td>NaN</td>\n",
       "      <td>NaN</td>\n",
       "      <td>2020-02-12</td>\n",
       "      <td>Ministry of Health</td>\n",
       "      <td>Government</td>\n",
       "      <td>2020-03-14</td>\n",
       "    </tr>\n",
       "    <tr>\n",
       "      <td>2</td>\n",
       "      <td>Afghanistan</td>\n",
       "      <td>AFG</td>\n",
       "      <td>Asia</td>\n",
       "      <td>Public health measures</td>\n",
       "      <td>Awareness campaigns</td>\n",
       "      <td>No</td>\n",
       "      <td>NaN</td>\n",
       "      <td>NaN</td>\n",
       "      <td>2020-02-12</td>\n",
       "      <td>Ministry of Health</td>\n",
       "      <td>Government</td>\n",
       "      <td>2020-03-14</td>\n",
       "    </tr>\n",
       "    <tr>\n",
       "      <td>3</td>\n",
       "      <td>Afghanistan</td>\n",
       "      <td>AFG</td>\n",
       "      <td>Asia</td>\n",
       "      <td>Social and economic measures</td>\n",
       "      <td>Emergency administrative structures activated ...</td>\n",
       "      <td>No</td>\n",
       "      <td>NaN</td>\n",
       "      <td>NaN</td>\n",
       "      <td>2020-02-12</td>\n",
       "      <td>Ministry of Health</td>\n",
       "      <td>Government</td>\n",
       "      <td>2020-03-14</td>\n",
       "    </tr>\n",
       "    <tr>\n",
       "      <td>4</td>\n",
       "      <td>Afghanistan</td>\n",
       "      <td>AFG</td>\n",
       "      <td>Asia</td>\n",
       "      <td>Social distancing</td>\n",
       "      <td>Limit public gatherings</td>\n",
       "      <td>No</td>\n",
       "      <td>Nevruz festival cancelled</td>\n",
       "      <td>NaN</td>\n",
       "      <td>2020-03-12</td>\n",
       "      <td>AA</td>\n",
       "      <td>Media</td>\n",
       "      <td>2020-03-14</td>\n",
       "    </tr>\n",
       "  </tbody>\n",
       "</table>\n",
       "</div>"
      ],
      "text/plain": [
       "       country  iso region                      category  \\\n",
       "0  Afghanistan  AFG   Asia        Public health measures   \n",
       "1  Afghanistan  AFG   Asia        Public health measures   \n",
       "2  Afghanistan  AFG   Asia        Public health measures   \n",
       "3  Afghanistan  AFG   Asia  Social and economic measures   \n",
       "4  Afghanistan  AFG   Asia             Social distancing   \n",
       "\n",
       "                                             measure targeted_pop_group  \\\n",
       "0  Health screenings in airports and border cross...                 No   \n",
       "1                Introduction of quarantine policies                 No   \n",
       "2                                Awareness campaigns                 No   \n",
       "3  Emergency administrative structures activated ...                 No   \n",
       "4                            Limit public gatherings                 No   \n",
       "\n",
       "                    comments non_compliance date_implemented  \\\n",
       "0                        NaN            NaN       2020-02-12   \n",
       "1                        NaN            NaN       2020-02-12   \n",
       "2                        NaN            NaN       2020-02-12   \n",
       "3                        NaN            NaN       2020-02-12   \n",
       "4  Nevruz festival cancelled            NaN       2020-03-12   \n",
       "\n",
       "               source source_type entry_date  \n",
       "0  Ministry of Health  Government 2020-03-14  \n",
       "1  Ministry of Health  Government 2020-03-14  \n",
       "2  Ministry of Health  Government 2020-03-14  \n",
       "3  Ministry of Health  Government 2020-03-14  \n",
       "4                  AA       Media 2020-03-14  "
      ]
     },
     "execution_count": 4,
     "metadata": {},
     "output_type": "execute_result"
    }
   ],
   "source": [
    "data.head()"
   ]
  },
  {
   "cell_type": "code",
   "execution_count": 5,
   "metadata": {},
   "outputs": [
    {
     "data": {
      "text/plain": [
       "(3539, 12)"
      ]
     },
     "execution_count": 5,
     "metadata": {},
     "output_type": "execute_result"
    }
   ],
   "source": [
    "data.shape"
   ]
  },
  {
   "cell_type": "code",
   "execution_count": null,
   "metadata": {},
   "outputs": [],
   "source": []
  }
 ],
 "metadata": {
  "kernelspec": {
   "display_name": "Python 3",
   "language": "python",
   "name": "python3"
  },
  "language_info": {
   "codemirror_mode": {
    "name": "ipython",
    "version": 3
   },
   "file_extension": ".py",
   "mimetype": "text/x-python",
   "name": "python",
   "nbconvert_exporter": "python",
   "pygments_lexer": "ipython3",
   "version": "3.7.4"
  }
 },
 "nbformat": 4,
 "nbformat_minor": 2
}
